{
 "cells": [
  {
   "cell_type": "markdown",
   "metadata": {},
   "source": [
    "# Chapter 4\n",
    "## Pre-trained MobileNet\n",
    "## Quantization v/s inference accuracy"
   ]
  },
  {
   "cell_type": "code",
   "execution_count": null,
   "metadata": {},
   "outputs": [],
   "source": [
    "import tensorflow as tf\n",
    "print ('TesnsorFlow version:', tf.__version__)\n",
    "print ('Keras version: ', tf.keras.__version__)"
   ]
  },
  {
   "cell_type": "code",
   "execution_count": null,
   "metadata": {},
   "outputs": [],
   "source": [
    "# Load test images\n",
    "from glob import glob\n",
    "import matplotlib.image as mpimg\n",
    "import matplotlib.pyplot as plt\n",
    "%matplotlib inline\n",
    "\n",
    "images = glob('test_images/*.jpg')\n",
    "\n",
    "# View an example of an image\n",
    "# example = mpimg.imread(images[0])\n",
    "# plt.imshow(example)\n",
    "# plt.show()\n",
    "# print('Showing example image, image dimensions: ', example.shape)"
   ]
  },
  {
   "cell_type": "code",
   "execution_count": null,
   "metadata": {},
   "outputs": [],
   "source": [
    "# This will download a new version of MobileNet as needed\n",
    "from tensorflow.keras.applications.mobilenet import MobileNet, decode_predictions\n",
    "\n",
    "def mnet_predict(img, w_scale):\n",
    "    global model_mnet\n",
    "    \n",
    "    # Load the pre-trained model\n",
    "    if not model_mnet:\n",
    "        model_mnet = MobileNet(weights='imagenet', alpha=w_scale)\n",
    "\n",
    "    # Perform inference on our pre-processed image\n",
    "    predictions = model_mnet.predict(img)\n",
    "\n",
    "    return decode_predictions(predictions, top=3)[0]"
   ]
  },
  {
   "cell_type": "code",
   "execution_count": null,
   "metadata": {},
   "outputs": [],
   "source": [
    "# # Here, we'll load an image and pre-process it\n",
    "from tensorflow.keras.preprocessing import image\n",
    "from tensorflow.keras.applications.mobilenet import preprocess_input\n",
    "import numpy as np\n",
    "\n",
    "def mnet_process(w_scale):\n",
    "    for i in range (len(images)):\n",
    "        img_path = images[i]\n",
    "        img = image.load_img(img_path, target_size=(224, 224))\n",
    "        x = image.img_to_array(img)\n",
    "        x = np.expand_dims(x, axis=0)\n",
    "        x = preprocess_input(x)\n",
    "        results = mnet_predict(x, w_scale)\n",
    "        example = mpimg.imread(img_path)\n",
    "        #plt.imshow(example) \n",
    "        #plt.show()\n",
    "        #print('Prediction Results: ', results[0][1:], results[1][1:], results[2][1:])"
   ]
  },
  {
   "cell_type": "code",
   "execution_count": null,
   "metadata": {},
   "outputs": [],
   "source": [
    "def to_quantized_tflite(network_name):\n",
    "# For tensorflow versions <= 1.12 lite is in contrib. For later versions of tensorflow use it \n",
    "# directly from tf.\n",
    "    converter = None\n",
    "    if (tf.__version__ <= \"1.12.0\"):\n",
    "        converter = tf.contrib.lite.TFLiteConverter.from_keras_model_file(network_name + \".h5\")\n",
    "        #converter.optimizations = [tf.contrib.lite.Optimize.OPTIMIZE_FOR_SIZE]\n",
    "        converter.post_training_quantize = true\n",
    "    else:\n",
    "        converter = tf.lite.TFLiteConverter.from_keras_model_file(network_name + \".h5\")\n",
    "        #converter.optimizations = [tf.lite.constants.QUANTIZED_UINT8]\n",
    "        converter.post_training_quantize = True\n",
    "    \n",
    "    tfmodel   = converter.convert()\n",
    "    \n",
    "    try:\n",
    "        fd = open(network_name + \"_quantized\" + \".tflite\", \"wb\")\n",
    "        fd.write(tfmodel)\n",
    "        fd.flush()\n",
    "        fd.close()\n",
    "    except:\n",
    "        print(\"Error in file i/o: \")"
   ]
  },
  {
   "cell_type": "code",
   "execution_count": null,
   "metadata": {},
   "outputs": [],
   "source": [
    "# Model alpha / network width = 1\n",
    "network_name = \"mnet_imagenet_1\"\n",
    "model_mnet = None\n",
    "w_scale = 1\n",
    "mnet_process(w_scale)\n",
    "model_mnet.save(network_name + \".h5\")\n",
    "to_quantized_tflite(network_name)\n",
    "print (\"Mnet alpha 1 quantized...\")"
   ]
  },
  {
   "cell_type": "code",
   "execution_count": null,
   "metadata": {},
   "outputs": [],
   "source": [
    "# Model alpha / network width = 0.5\n",
    "network_name = \"mnet_imagenet_50\"\n",
    "model_mnet = None\n",
    "w_scale = 0.5\n",
    "mnet_process(w_scale)\n",
    "model_mnet.save(network_name + \".h5\")\n",
    "to_quantized_tflite(network_name)\n",
    "print (\"Mnet alpha 0.5 quantized...\")"
   ]
  },
  {
   "cell_type": "code",
   "execution_count": null,
   "metadata": {},
   "outputs": [],
   "source": [
    "# Model alpha / network width = 0.25\n",
    "network_name = \"mnet_imagenet_25\"\n",
    "model_mnet = None\n",
    "w_scale = 0.25\n",
    "mnet_process(w_scale)\n",
    "model_mnet.save(network_name + \".h5\")\n",
    "to_quantized_tflite(network_name)\n",
    "print (\"Mnet alpha 0.25 quantized...\")"
   ]
  },
  {
   "cell_type": "code",
   "execution_count": null,
   "metadata": {},
   "outputs": [],
   "source": [
    "ls -ltr *.tflite"
   ]
  }
 ],
 "metadata": {
  "kernelspec": {
   "display_name": "Python 3",
   "language": "python",
   "name": "python3"
  },
  "language_info": {
   "codemirror_mode": {
    "name": "ipython",
    "version": 3
   },
   "file_extension": ".py",
   "mimetype": "text/x-python",
   "name": "python",
   "nbconvert_exporter": "python",
   "pygments_lexer": "ipython3",
   "version": "3.6.1rc1"
  }
 },
 "nbformat": 4,
 "nbformat_minor": 2
}
