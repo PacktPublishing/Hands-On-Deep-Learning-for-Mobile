{
 "cells": [
  {
   "cell_type": "code",
   "execution_count": 1,
   "metadata": {},
   "outputs": [],
   "source": [
    "import numpy as np\n",
    "import tensorflow as tf\n",
    "from tensorflow import keras"
   ]
  },
  {
   "cell_type": "code",
   "execution_count": 2,
   "metadata": {},
   "outputs": [],
   "source": [
    "new_model = keras.models.load_model('emnist_fc_model.h5')"
   ]
  },
  {
   "cell_type": "code",
   "execution_count": 5,
   "metadata": {},
   "outputs": [
    {
     "ename": "AttributeError",
     "evalue": "'Sequential' object has no attribute 'signatures'",
     "output_type": "error",
     "traceback": [
      "\u001b[0;31m---------------------------------------------------------------------------\u001b[0m",
      "\u001b[0;31mAttributeError\u001b[0m                            Traceback (most recent call last)",
      "\u001b[0;32m<ipython-input-5-d5307daab26a>\u001b[0m in \u001b[0;36m<module>\u001b[0;34m\u001b[0m\n\u001b[1;32m      1\u001b[0m \u001b[0;34m\u001b[0m\u001b[0m\n\u001b[0;32m----> 2\u001b[0;31m concrete_func = new_model.signatures[\n\u001b[0m\u001b[1;32m      3\u001b[0m   tf.saved_model.DEFAULT_SERVING_SIGNATURE_DEF_KEY]\n\u001b[1;32m      4\u001b[0m \u001b[0;34m\u001b[0m\u001b[0m\n\u001b[1;32m      5\u001b[0m \u001b[0;31m# Convert the model.\u001b[0m\u001b[0;34m\u001b[0m\u001b[0;34m\u001b[0m\u001b[0;34m\u001b[0m\u001b[0m\n",
      "\u001b[0;31mAttributeError\u001b[0m: 'Sequential' object has no attribute 'signatures'"
     ]
    }
   ],
   "source": [
    "\n",
    "concrete_func = new_model.signatures[\n",
    "  tf.saved_model.DEFAULT_SERVING_SIGNATURE_DEF_KEY]\n",
    "\n",
    "# Convert the model.\n",
    "converter = tf.lite.TFLiteConverter.from_concrete_function(concrete_func)\n",
    "tflite_model = converter.convert()\n",
    "open(\"new_classificaton.tflite\",\"wb\").write(tflite_model)"
   ]
  },
  {
   "cell_type": "markdown",
   "metadata": {},
   "source": [
    "_Code Refs_\n",
    "https://github.com/tensorflow/tensorflow/blob/r2.0/tensorflow/lite/python/tflite_convert.py#L104\n",
    "`converter_fn = lite.TFLiteConverter.from_keras_model_file\n",
    "converter_kwargs[\"model_file\"] = flags.keras_model_file`\n",
    "\n",
    "Actual code in:\n",
    "https://www.gitmemory.com/gargn\n",
    "\n",
    "'''\n",
    "model = tf.saved_model.load(export_dir)\n",
    "concrete_func = model.signatures[\n",
    "    tf.saved_model.DEFAULT_SERVING_SIGNATURE_DEF_KEY]\n",
    "concrete_func.inputs[0].set_shape([1, 28, 28])\n",
    "converter = tf.lite.TFLiteConverter.from_concrete_function(concrete_func)\n",
    "tflite_model = converter.convert()\n",
    "open(\"/tmp/mnist_fashion/converted_model.tflite\", \"wb\").write(tflite_model)\n",
    "'''\n",
    "\n",
    "Note that the model has been saved with tf.saved_model, and not with keras convience function.\n",
    "\n",
    "    "
   ]
  },
  {
   "cell_type": "code",
   "execution_count": null,
   "metadata": {},
   "outputs": [],
   "source": []
  }
 ],
 "metadata": {
  "kernelspec": {
   "display_name": "Python 3",
   "language": "python",
   "name": "python3"
  },
  "language_info": {
   "codemirror_mode": {
    "name": "ipython",
    "version": 3
   },
   "file_extension": ".py",
   "mimetype": "text/x-python",
   "name": "python",
   "nbconvert_exporter": "python",
   "pygments_lexer": "ipython3",
   "version": "3.6.8"
  }
 },
 "nbformat": 4,
 "nbformat_minor": 2
}
